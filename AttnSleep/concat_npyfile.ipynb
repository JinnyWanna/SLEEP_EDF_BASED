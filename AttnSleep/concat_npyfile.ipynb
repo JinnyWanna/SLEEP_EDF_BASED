{
 "cells": [
  {
   "cell_type": "code",
   "execution_count": 10,
   "metadata": {},
   "outputs": [],
   "source": [
    "import numpy as np\n",
    "from sklearn.metrics import accuracy_score\n"
   ]
  },
  {
   "cell_type": "code",
   "execution_count": 20,
   "metadata": {},
   "outputs": [],
   "source": [
    "all_predictions = []\n",
    "all_ground_truths = []\n",
    "\n",
    "for fold in range(0, 5):\n",
    "  predictions = np.load(f'/Users/woojin/Documents/paper/Physionet_EDF_based/Sleep_EDF_Based/AttnSleep/saved/Exp2_EDF20/31_12_2024_fold{fold}/outs_{fold}.npy')  # 모델의 예측값\n",
    "\n",
    "  ground_truth = np.load(f'/Users/woojin/Documents/paper/Physionet_EDF_based/Sleep_EDF_Based/AttnSleep/saved/Exp2_EDF20/31_12_2024_fold{fold}/trgs_{fold}.npy')  # 참값\n",
    "\n",
    "  all_predictions.append(predictions)\n",
    "  all_ground_truths.append(ground_truth)"
   ]
  },
  {
   "cell_type": "code",
   "execution_count": 21,
   "metadata": {},
   "outputs": [],
   "source": [
    "all_predictions = np.concatenate(all_predictions)\n",
    "all_ground_truths = np.concatenate(all_ground_truths)"
   ]
  },
  {
   "cell_type": "code",
   "execution_count": 22,
   "metadata": {},
   "outputs": [
    {
     "name": "stdout",
     "output_type": "stream",
     "text": [
      "F1 Score: 0.7342\n"
     ]
    }
   ],
   "source": [
    "from sklearn.metrics import f1_score\n",
    "\n",
    "# F1 Score 계산\n",
    "f1 = f1_score(all_ground_truths, all_predictions, average='macro')\n",
    "print(f\"F1 Score: {f1:.4f}\")\n"
   ]
  },
  {
   "cell_type": "code",
   "execution_count": 23,
   "metadata": {},
   "outputs": [
    {
     "name": "stdout",
     "output_type": "stream",
     "text": [
      "Classification Report:\n",
      "               precision    recall  f1-score   support\n",
      "\n",
      "         0.0       0.83      0.84      0.84      8285\n",
      "         1.0       0.34      0.40      0.37      2804\n",
      "         2.0       0.89      0.83      0.86     17799\n",
      "         3.0       0.87      0.87      0.87      5703\n",
      "         4.0       0.70      0.77      0.73      7717\n",
      "\n",
      "    accuracy                           0.80     42308\n",
      "   macro avg       0.73      0.74      0.73     42308\n",
      "weighted avg       0.81      0.80      0.80     42308\n",
      "\n"
     ]
    }
   ],
   "source": [
    "from sklearn.metrics import classification_report\n",
    "\n",
    "# 분류 리포트 출력\n",
    "report = classification_report(all_ground_truths, all_predictions)\n",
    "print(\"Classification Report:\\n\", report)\n"
   ]
  },
  {
   "cell_type": "code",
   "execution_count": 19,
   "metadata": {},
   "outputs": [
    {
     "name": "stdout",
     "output_type": "stream",
     "text": [
      "195479\n"
     ]
    }
   ],
   "source": []
  },
  {
   "cell_type": "code",
   "execution_count": null,
   "metadata": {},
   "outputs": [],
   "source": []
  }
 ],
 "metadata": {
  "kernelspec": {
   "display_name": "DM",
   "language": "python",
   "name": "python3"
  },
  "language_info": {
   "codemirror_mode": {
    "name": "ipython",
    "version": 3
   },
   "file_extension": ".py",
   "mimetype": "text/x-python",
   "name": "python",
   "nbconvert_exporter": "python",
   "pygments_lexer": "ipython3",
   "version": "3.8.19"
  }
 },
 "nbformat": 4,
 "nbformat_minor": 2
}
